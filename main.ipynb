{
 "cells": [
  {
   "cell_type": "code",
   "execution_count": null,
   "metadata": {},
   "outputs": [],
   "source": [
    "import pandas as pd \n",
    "import numpy as np\n",
    "from matplotlib import pyplot as plt\n",
    "import random\n",
    "\n",
    "frame = pd.read_csv(\"Stars_Types.csv\")\n",
    "\n",
    "data = pd.DataFrame()\n",
    "data[\"temperature\"] = frame[\"Temperature (K)\"]\n",
    "data[\"luminosity\"] = frame[\"Luminosity (L/Lo)\"]\n",
    "data[\"radius\"] = frame[\"Luminosity (L/Lo)\"]\n",
    "data[\"magnitude\"] = frame[\"Absolute magnitude (Mv)\"]\n",
    "data[\"star_type\"] = frame[\"Star type\"]\n"
   ]
  },
  {
   "cell_type": "code",
   "execution_count": null,
   "metadata": {},
   "outputs": [],
   "source": [
    "data"
   ]
  },
  {
   "cell_type": "code",
   "execution_count": null,
   "metadata": {},
   "outputs": [],
   "source": [
    "plt.hist(data[\"temperature\"])"
   ]
  },
  {
   "cell_type": "code",
   "execution_count": null,
   "metadata": {},
   "outputs": [],
   "source": [
    "plt.hist(data[\"luminosity\"])"
   ]
  },
  {
   "cell_type": "code",
   "execution_count": null,
   "metadata": {},
   "outputs": [],
   "source": [
    "plt.hist(data[\"radius\"])"
   ]
  },
  {
   "cell_type": "code",
   "execution_count": null,
   "metadata": {},
   "outputs": [],
   "source": [
    "plt.hist(data[\"magnitude\"])"
   ]
  },
  {
   "cell_type": "code",
   "execution_count": null,
   "metadata": {},
   "outputs": [],
   "source": [
    "#数据预处理\n",
    "def min_max_normalize(x:  pd.Series):\n",
    "    return (x - x.min()) / (x.max() - x.min())\n",
    "\n",
    "#数量级差距过大，取对数\n",
    "data[\"luminosity\"] = np.log10(data[\"luminosity\"])\n",
    "data[\"radius\"] = np.log10(data[\"radius\"])\n",
    "\n",
    "data[\"temperature\"] = min_max_normalize(data[\"temperature\"])\n",
    "data[\"luminosity\"] = min_max_normalize(data[\"luminosity\"])\n",
    "data[\"radius\"] = min_max_normalize(data[\"radius\"])\n",
    "data[\"magnitude\"] = min_max_normalize(data[\"magnitude\"])\n"
   ]
  },
  {
   "cell_type": "code",
   "execution_count": null,
   "metadata": {},
   "outputs": [],
   "source": [
    "#单层softmax回归\n",
    "w = np.random.rand(6,5)\n",
    "x = data.iloc[:,:4]\n",
    "x.insert(0,\"ones\",1)\n",
    "x = np.array(x.T)\n",
    "\n",
    "t = np.array(pd.get_dummies(data[\"star_type\"])).T\n",
    "\n",
    "predict_func = lambda w,x: soft_max(w.dot(x))\n",
    "\n",
    "def soft_max(x: np.ndarray) -> np.ndarray:\n",
    "    return np.exp(x) / np.exp(x).sum()\n",
    "\n",
    "def MCEE(predict: np.ndarray, actual: np.ndarray):\n",
    "    \"\"\"平均交叉熵误差\"\"\"\n",
    "    size = predict.shape[1]\n",
    "    return - np.where ( actual>0 , np.log(predict), 0)  .sum() / size\n",
    "\n",
    "\n",
    "def Loss(w: np.ndarray):\n",
    "    return MCEE(predict_func(w,x), t)\n",
    "\n",
    "\n",
    "def gradient(w: np.ndarray, Loss, derivative_step: float):\n",
    "    \"\"\"计算数值导数\"\"\"\n",
    "    result = np.zeros_like(w, dtype=np.float64)\n",
    "    loss = Loss(w)\n",
    "    for i in range(w.size):\n",
    "        delta_w = np.zeros_like(w, dtype=np.float64)\n",
    "        delta_w.flat[i] = derivative_step\n",
    "        result.flat[i] = (Loss(w + delta_w) - loss) / derivative_step\n",
    "    return result"
   ]
  },
  {
   "cell_type": "code",
   "execution_count": 9,
   "metadata": {},
   "outputs": [],
   "source": [
    "loss_history = []\n",
    "epoch = 2500\n",
    "learning_rate = 1\n",
    "for i in range(epoch):\n",
    "    loss_history.append(Loss(w))\n",
    "    w -= gradient(w,Loss,0.001)*  learning_rate\n"
   ]
  },
  {
   "cell_type": "code",
   "execution_count": 10,
   "metadata": {},
   "outputs": [
    {
     "data": {
      "text/plain": [
       "[<matplotlib.lines.Line2D at 0x1a3a7b05b10>]"
      ]
     },
     "execution_count": 10,
     "metadata": {},
     "output_type": "execute_result"
    },
    {
     "data": {
      "image/png": "[encoded data removed]",
      "text/plain": [
       "<Figure size 640x480 with 1 Axes>"
      ]
     },
     "metadata": {},
     "output_type": "display_data"
    }
   ],
   "source": [
    "plt.plot(loss_history)"
   ]
  },
  {
   "cell_type": "code",
   "execution_count": 11,
   "metadata": {},
   "outputs": [
    {
     "name": "stdout",
     "output_type": "stream",
     "text": [
      "错误数： 24\n",
      "准确率：  0.9\n"
     ]
    }
   ],
   "source": [
    "predict_type = np.argmax( predict_func(w,x), axis=0)\n",
    "\n",
    "actual_type = np.argmax(t, axis=0)\n",
    "\n",
    "difference = (predict_type != actual_type).sum()\n",
    "\n",
    "print(\"错误数：\",difference)\n",
    "print(\"准确率： \",1 - difference/240)"
   ]
  },
  {
   "cell_type": "code",
   "execution_count": null,
   "metadata": {},
   "outputs": [],
   "source": [
    "# 利用Mini-autograd训练2层前馈神经网络\n",
    "\n",
    "from Mini_autograd import *\n",
    "\n",
    "x = x[1:, :]\n",
    "\n",
    "\n",
    "l1 = Linear(np.random.rand(4, 5))  # 一层维度 4 -> 4\n",
    "h1 = Sigmoid()\n",
    "l2 = Linear(np.random.rand(6, 5))  # 二层 4 -> 6\n",
    "loss = Softmax_MCELoss()\n",
    "\n",
    "myNN = NN(\n",
    "    l1,\n",
    "    h1,\n",
    "    l2,\n",
    "    loss,\n",
    ")"
   ]
  },
  {
   "cell_type": "code",
   "execution_count": null,
   "metadata": {},
   "outputs": [],
   "source": [
    "myNN.train(x,t,epoch=2500)"
   ]
  },
  {
   "cell_type": "code",
   "execution_count": 14,
   "metadata": {},
   "outputs": [
    {
     "data": {
      "text/plain": [
       "[<matplotlib.lines.Line2D at 0x1a3a7870520>]"
      ]
     },
     "execution_count": 14,
     "metadata": {},
     "output_type": "execute_result"
    },
    {
     "data": {
      "image/png": "[encoded data removed]",
      "text/plain": [
       "<Figure size 640x480 with 1 Axes>"
      ]
     },
     "metadata": {},
     "output_type": "display_data"
    }
   ],
   "source": [
    "plt.plot(myNN.show_loss_history())"
   ]
  },
  {
   "cell_type": "code",
   "execution_count": 15,
   "metadata": {},
   "outputs": [
    {
     "ename": "AttributeError",
     "evalue": "'Softmax_MCELoss' object has no attribute 'output_set'",
     "output_type": "error",
     "traceback": [
      "\u001b[1;31m---------------------------------------------------------------------------\u001b[0m",
      "\u001b[1;31mAttributeError\u001b[0m                            Traceback (most recent call last)",
      "Cell \u001b[1;32mIn[15], line 2\u001b[0m\n\u001b[0;32m      1\u001b[0m l1\u001b[38;5;241m.\u001b[39mforward(x)\n\u001b[1;32m----> 2\u001b[0m output \u001b[38;5;241m=\u001b[39m \u001b[43mloss\u001b[49m\u001b[38;5;241;43m.\u001b[39;49m\u001b[43moutput_set\u001b[49m\n\u001b[0;32m      4\u001b[0m predict_type \u001b[38;5;241m=\u001b[39m np\u001b[38;5;241m.\u001b[39margmax(output, axis\u001b[38;5;241m=\u001b[39m\u001b[38;5;241m0\u001b[39m)\n\u001b[0;32m      5\u001b[0m actual_type \u001b[38;5;241m=\u001b[39m np\u001b[38;5;241m.\u001b[39margmax(t, axis\u001b[38;5;241m=\u001b[39m\u001b[38;5;241m0\u001b[39m)\n",
      "\u001b[1;31mAttributeError\u001b[0m: 'Softmax_MCELoss' object has no attribute 'output_set'"
     ]
    }
   ],
   "source": [
    "l1.forward(x)\n",
    "output = loss.output_set\n",
    "\n",
    "predict_type = np.argmax(output, axis=0)\n",
    "actual_type = np.argmax(t, axis=0)\n",
    "\n",
    "difference = (predict_type != actual_type).sum()\n",
    "print(\"错误数：\",difference)\n",
    "print(\"准确率： \",1 - difference/240)"
   ]
  }
 ],
 "metadata": {
  "kernelspec": {
   "display_name": "ml",
   "language": "python",
   "name": "python3"
  },
  "language_info": {
   "codemirror_mode": {
    "name": "ipython",
    "version": 3
   },
   "file_extension": ".py",
   "mimetype": "text/x-python",
   "name": "python",
   "nbconvert_exporter": "python",
   "pygments_lexer": "ipython3",
   "version": "3.10.15"
  }
 },
 "nbformat": 4,
 "nbformat_minor": 2
}
